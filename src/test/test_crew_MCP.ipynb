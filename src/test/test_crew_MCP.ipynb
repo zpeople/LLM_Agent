{
 "cells": [
  {
   "cell_type": "code",
   "execution_count": null,
   "id": "ffb6a3e2",
   "metadata": {},
   "outputs": [],
   "source": [
    "# ! pip install 'crewai-tools[mcp]'"
   ]
  },
  {
   "cell_type": "code",
   "execution_count": null,
   "id": "86085c6a",
   "metadata": {},
   "outputs": [],
   "source": [
    "import os\n",
    "import sys\n",
    "try:\n",
    "    get_ipython\n",
    "    current_dir = os.getcwd()\n",
    "except NameError:\n",
    "    current_dir = os.path.dirname(os.path.abspath(__file__))\n",
    "\n",
    "# Set path，temporary path expansion\n",
    "project_dir = os.path.abspath(os.path.join(current_dir, ''))\n",
    "if project_dir not in sys.path:\n",
    "    sys.path.append(project_dir)"
   ]
  },
  {
   "cell_type": "code",
   "execution_count": null,
   "id": "70686a04",
   "metadata": {},
   "outputs": [],
   "source": [
    "import os\n",
    "from crewai import Agent, Task, Crew,LLM\n",
    "from crewai_tools import MCPServerAdapter\n",
    "from mcp import StdioServerParameters  # 用于本地进程通信的 MCP 服务器参数\n",
    "from dotenv import load_dotenv "
   ]
  },
  {
   "cell_type": "code",
   "execution_count": null,
   "id": "8b01d84f",
   "metadata": {},
   "outputs": [],
   "source": [
    "\n",
    "\n",
    "load_dotenv()\n",
    "BASE_URL= os.getenv(\"BASE_URL\")\n",
    "ONLINE_MODEL_NAME = os.getenv(\"ONLINE_MODEL_NAME\")\n",
    "api_key = ( os.getenv(\"QWEN_API_KEY\") or os.getenv(\"DASHSCOPE_API_KEY\" ) ) \n",
    "\n",
    "llm = LLM(\n",
    "            base_url=BASE_URL,\n",
    "            api_key=api_key,\n",
    "            model=\"openai/\"+ONLINE_MODEL_NAME,  # 本次使用的模型\n",
    "            # temperature=0.7,  \n",
    "            # timeout=None,\n",
    "            # max_retries=2,\n",
    "        )\n"
   ]
  },
  {
   "cell_type": "code",
   "execution_count": null,
   "id": "26421ca1",
   "metadata": {},
   "outputs": [],
   "source": [
    "\n",
    "\n",
    "# 1. 配置 MCP 服务器参数（以本地 Stdio 服务器为例）\n",
    "# 假设我们有一个本地 MCP 服务器脚本：calculator_server.py\n",
    "server_path =os.path.join(project_dir,\"calculator_server.py\")\n",
    "print(server_path)\n",
    "server_params = StdioServerParameters(\n",
    "    command=\"python3\",\n",
    "    args=[server_path],  # MCP 服务器脚本路径\n",
    "    env={ **os.environ},  # 传递环境变量\n",
    ")\n",
    "\n",
    "# 2. 连接 MCP 服务器并获取工具\n",
    "with MCPServerAdapter(server_params, connect_timeout=60) as mcp_tools:\n",
    "    print(f\"已加载 MCP 服务器提供的工具: {[tool.name for tool in mcp_tools]}\")\n",
    "\n",
    "    # 3. 创建使用 MCP 工具的 Agent\n",
    "    calculator_agent = Agent(\n",
    "        role=\"计算器专家\",\n",
    "        goal=\"使用 MCP 服务器提供的计算器工具解决数学问题\",\n",
    "        backstory=\"擅长调用外部计算工具解决复杂数学问题，依赖 MCP 服务器提供的计算能力\",\n",
    "        llm=llm,\n",
    "        tools=mcp_tools,  # 注入 MCP 服务器的工具\n",
    "        reasoning=True,\n",
    "        verbose=True,\n",
    "        max_iter=3\n",
    "    )\n",
    "\n",
    "    # 4. 创建任务\n",
    "    calculation_task = Task(\n",
    "        description=\"计算30的立方的结果\",\n",
    "        expected_output=\"详细计算步骤和最终结果，保留两位小数\",\n",
    "        agent=calculator_agent\n",
    "    )\n",
    "\n",
    "    # 5. 运行 Crew\n",
    "    crew = Crew(agents=[calculator_agent], tasks=[calculation_task], verbose=True)\n",
    "    result = crew.kickoff()\n",
    "\n",
    "    print(\"\\n任务结果:\", result)\n",
    "    "
   ]
  }
 ],
 "metadata": {
  "kernelspec": {
   "display_name": "agent",
   "language": "python",
   "name": "python3"
  },
  "language_info": {
   "codemirror_mode": {
    "name": "ipython",
    "version": 3
   },
   "file_extension": ".py",
   "mimetype": "text/x-python",
   "name": "python",
   "nbconvert_exporter": "python",
   "pygments_lexer": "ipython3",
   "version": "3.10.18"
  }
 },
 "nbformat": 4,
 "nbformat_minor": 5
}
