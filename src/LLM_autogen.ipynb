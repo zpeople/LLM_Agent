{
 "cells": [
  {
   "cell_type": "code",
   "execution_count": null,
   "id": "485e261a",
   "metadata": {},
   "outputs": [],
   "source": [
    "# ! pip install -U \"autogen-agentchat\" \"autogen-ext[openai]\" "
   ]
  },
  {
   "cell_type": "code",
   "execution_count": null,
   "id": "c4fb530b",
   "metadata": {},
   "outputs": [],
   "source": [
    "# ! pip install -U \"autogen-ext[semantic-kernel-hugging-face]\"\n",
    "\n",
    "'''\n",
    "error \n",
    "'''\n",
    "\n",
    "# from autogen_ext.models.semantic_kernel import SKChatCompletionAdapter\n",
    "# from semantic_kernel import Kernel\n",
    "# from semantic_kernel.connectors.ai.hugging_face import HuggingFaceTextCompletion,HuggingFacePromptExecutionSettings\n",
    "\n",
    "# sk_client = HuggingFaceTextCompletion(\n",
    "#     ai_model_id=ONLINE_MODEL_NAME,\n",
    "#     api_key=api_key\n",
    "# )\n",
    "\n",
    "# settings = HuggingFacePromptExecutionSettings(\n",
    "#     temperature=0.2,\n",
    "# )\n",
    "\n",
    "# anthropic_model_client = SKChatCompletionAdapter(\n",
    "#     sk_client, kernel=Kernel(), prompt_settings=settings\n",
    "# )  "
   ]
  },
  {
   "cell_type": "code",
   "execution_count": null,
   "id": "5fd7125f",
   "metadata": {},
   "outputs": [],
   "source": [
    "import os\n",
    "import sys\n",
    "try:\n",
    "    get_ipython\n",
    "    current_dir = os.getcwd()\n",
    "except NameError:\n",
    "    current_dir = os.path.dirname(os.path.abspath(__file__))\n",
    "\n",
    "# Set path，temporary path expansion\n",
    "project_dir = os.path.abspath(os.path.join(current_dir, '..'))\n",
    "if project_dir not in sys.path:\n",
    "    sys.path.append(project_dir)\n",
    "    \n",
    "from autogen_agentchat.agents import AssistantAgent\n",
    "from autogen_agentchat.ui import Console\n",
    "from autogen_ext.models.openai import OpenAIChatCompletionClient\n",
    "from dotenv import load_dotenv\n",
    "import asyncio\n",
    "from tools.tool import skip_execution\n",
    "IS_SKIP =True"
   ]
  },
  {
   "cell_type": "code",
   "execution_count": null,
   "id": "7f6fb22e",
   "metadata": {},
   "outputs": [],
   "source": [
    "load_dotenv()\n",
    "BASE_URL= os.getenv(\"BASE_URL\")\n",
    "ONLINE_MODEL_NAME = os.getenv(\"ONLINE_MODEL_NAME\")\n",
    "api_key = ( os.getenv(\"QWEN_API_KEY\") or os.getenv(\"DASHSCOPE_API_KEY\" ) ) \n",
    "\n",
    "model_info = {\n",
    "    \"name\": f\"{ONLINE_MODEL_NAME}\", # 模型名称，可随意填写\n",
    "    \"parameters\": {\n",
    "        \"max_tokens\": 2048,  # 每次输出最大token数\n",
    "        \"temperature\": 0.4,  \n",
    "        \"top_p\": 0.9,  \n",
    "    },\n",
    "    \"family\": \"unknown\",  # 必填字段，model属于的类别\n",
    "    \"functions\": [],  # 非必填字段，如果模型支持函数调用，可以在这里定义函数信息\n",
    "    \"vision\": False,  # 必填字段，模型是否支持图像输入\n",
    "    \"json_output\": True,  # 必填字段，模型是否支持json格式输出\n",
    "    \"function_calling\": True,  # 必填字段，模型是否支持函数调用，如果模型需要使用工具函数，该字段为true\n",
    "    \"structured_output\":True\n",
    "}\n",
    "\n",
    "\n",
    "# # Define a model client. You can use other model client that implements\n",
    "# # the `ChatCompletionClient` interface.\n",
    "model_client = OpenAIChatCompletionClient(\n",
    "    model=ONLINE_MODEL_NAME,\n",
    "    api_key=api_key,\n",
    "    base_url=BASE_URL,\n",
    "    model_info= model_info\n",
    ")\n"
   ]
  },
  {
   "cell_type": "code",
   "execution_count": null,
   "id": "f9ebb5b5",
   "metadata": {},
   "outputs": [
    {
     "name": "stdout",
     "output_type": "stream",
     "text": [
      "异步函数 test_model_connected 已跳过执行\n"
     ]
    }
   ],
   "source": [
    "@skip_execution(IS_SKIP)\n",
    "async def test_model_connected():\n",
    "    '''\n",
    "    测试模型是否联通\n",
    "    '''\n",
    "    from autogen_core.models import UserMessage\n",
    "\n",
    "    result = await model_client.create([UserMessage(content=\"What is the capital of China?\", source=\"user\")])\n",
    "    print(result)\n",
    "    await model_client.close()\n",
    "    \n",
    "await test_model_connected()"
   ]
  },
  {
   "cell_type": "code",
   "execution_count": null,
   "id": "2a3bb0ec",
   "metadata": {},
   "outputs": [
    {
     "name": "stdout",
     "output_type": "stream",
     "text": [
      "---------- TextMessage (user) ----------\n",
      "What is the weather in New York?\n",
      "---------- ToolCallRequestEvent (weather_agent) ----------\n",
      "[FunctionCall(id='call_ec2ec20ae733442da12ee3', arguments='{\"city\": \"New York\"}', name='get_weather')]\n",
      "---------- ToolCallExecutionEvent (weather_agent) ----------\n",
      "[FunctionExecutionResult(content='The weather in New York is 73 degrees and Sunny.', name='get_weather', call_id='call_ec2ec20ae733442da12ee3', is_error=False)]\n",
      "---------- ToolCallSummaryMessage (weather_agent) ----------\n",
      "The weather in New York is 73 degrees and Sunny.\n"
     ]
    }
   ],
   "source": [
    "\n",
    "# Define a simple function tool that the agent can use.\n",
    "# For this example, we use a fake weather tool for demonstration purposes.\n",
    "async def get_weather(city: str) -> str:\n",
    "    \"\"\"Get the weather for a given city.\"\"\"\n",
    "    return f\"The weather in {city} is 73 degrees and Sunny.\"\n",
    "\n",
    "\n",
    "# Define an AssistantAgent with the model, tool, system message, and reflection enabled.\n",
    "# The system message instructs the agent via natural language.\n",
    "agent = AssistantAgent(\n",
    "    name=\"weather_agent\",\n",
    "    model_client=model_client,\n",
    "    tools=[get_weather],\n",
    "    system_message=\"You are a helpful assistant.\",\n",
    "    reflect_on_tool_use=False,\n",
    "    model_client_stream=False,  # Enable streaming tokens from the model client.\n",
    ")\n",
    "\n",
    "\n",
    "# Run the agent and stream the messages to the console.\n",
    "async def main() -> None:\n",
    "    await Console(agent.run_stream(task=\"What is the weather in New York?\"))\n",
    "    # Close the connection to the model client.\n",
    "    await model_client.close()\n",
    "\n",
    "\n",
    "# NOTE: if running this inside a Python script you'll need to use asyncio.run(main()).\n",
    "await main()"
   ]
  }
 ],
 "metadata": {
  "kernelspec": {
   "display_name": "agent",
   "language": "python",
   "name": "python3"
  },
  "language_info": {
   "codemirror_mode": {
    "name": "ipython",
    "version": 3
   },
   "file_extension": ".py",
   "mimetype": "text/x-python",
   "name": "python",
   "nbconvert_exporter": "python",
   "pygments_lexer": "ipython3",
   "version": "3.10.18"
  }
 },
 "nbformat": 4,
 "nbformat_minor": 5
}
