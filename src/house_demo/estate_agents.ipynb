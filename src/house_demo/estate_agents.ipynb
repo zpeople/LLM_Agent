{
 "cells": [
  {
   "cell_type": "code",
   "execution_count": 14,
   "id": "ec4c8357",
   "metadata": {},
   "outputs": [],
   "source": [
    "import os\n",
    "import sys\n",
    "try:\n",
    "    get_ipython\n",
    "    current_dir = os.getcwd()\n",
    "except NameError:\n",
    "    current_dir = os.path.dirname(os.path.abspath(__file__))\n",
    "\n",
    "# Set path，temporary path expansion\n",
    "project_dir = os.path.abspath(os.path.join(current_dir, '..'))\n",
    "if project_dir not in sys.path:\n",
    "    sys.path.append(project_dir)"
   ]
  },
  {
   "cell_type": "code",
   "execution_count": null,
   "id": "710b9943",
   "metadata": {},
   "outputs": [],
   "source": [
    "from crewai import Agent,LLM\n",
    "import estate_tools  as ET\n",
    "from dotenv import load_dotenv  \n",
    "from tools_wrapper import get_yaml_config\n",
    "from crewai.project import CrewBase"
   ]
  },
  {
   "cell_type": "code",
   "execution_count": 16,
   "id": "26342123",
   "metadata": {},
   "outputs": [],
   "source": [
    "load_dotenv()\n",
    "BASE_URL= os.getenv(\"BASE_URL\")\n",
    "ONLINE_MODEL_NAME = os.getenv(\"ONLINE_MODEL_NAME\")\n",
    "api_key = ( os.getenv(\"QWEN_API_KEY\") or os.getenv(\"DASHSCOPE_API_KEY\" ) ) \n",
    "\n",
    "\n",
    "llm = LLM(\n",
    "            base_url=BASE_URL,\n",
    "            api_key=api_key,\n",
    "            model=\"openai/\"+ONLINE_MODEL_NAME,  # 本次使用的模型\n",
    "            # temperature=0.7,  \n",
    "            # timeout=None,\n",
    "            # max_retries=2,\n",
    "        )"
   ]
  },
  {
   "cell_type": "code",
   "execution_count": null,
   "id": "f9212f94",
   "metadata": {},
   "outputs": [],
   "source": [
    "agents_config =get_yaml_config(\"config/agents.yaml\")"
   ]
  },
  {
   "cell_type": "code",
   "execution_count": null,
   "id": "852ac9db",
   "metadata": {},
   "outputs": [],
   "source": [
    "# 定义智能体\n",
    "class RealEstateAgents:\n",
    "    @staticmethod\n",
    "    def intent_recognition_agent():\n",
    "        \"\"\"意图识别智能体：分析用户输入，确定用户意图\"\"\"\n",
    "        return Agent(\n",
    "                    config=agents_config['intent'], \n",
    "                    llm=llm,\n",
    "                    tools=[ET.intent_recognition_tool],  \n",
    "                    verbose=True,\n",
    "                    allow_delegation=False\n",
    "                )\n",
    "        \n",
    "    @staticmethod\n",
    "    def conversation_planner_agent():\n",
    "        \"\"\"对话规划智能体：规划对话流程，确定下一步行动\"\"\"\n",
    "        return Agent(\n",
    "                    config=agents_config['planner'], \n",
    "                    llm=llm,\n",
    "                    tools=[],  # 规划不需要工具\n",
    "                    verbose=True,\n",
    "                    allow_delegation=True,\n",
    "                    max_iter=3\n",
    "            )\n",
    "                \n",
    "    \n",
    "    @staticmethod\n",
    "    def property_consultant_agent():\n",
    "        \"\"\"房产咨询智能体：提供房产信息和建议\"\"\"\n",
    "        return Agent(\n",
    "                    config=agents_config['consultant'], \n",
    "                    llm=llm,\n",
    "                    tools=[ET.query_property_info,ET.calculate_mortgage,ET.get_market_trends],\n",
    "                    verbose=True,\n",
    "                    allow_delegation=False\n",
    "                )\n",
    "    \n",
    "    @staticmethod\n",
    "    def mortgage_expert_agent():\n",
    "        \"\"\"房贷专家智能体：提供贷款计算和建议\"\"\"\n",
    "        return Agent(\n",
    "                    config=agents_config['mortgage'], \n",
    "                    llm=llm,\n",
    "                    tools=[ET.calculate_mortgage],  # 主要使用房贷计算工具\n",
    "                    verbose=True,\n",
    "                    allow_delegation=False\n",
    "                )\n"
   ]
  }
 ],
 "metadata": {
  "kernelspec": {
   "display_name": "agent",
   "language": "python",
   "name": "python3"
  },
  "language_info": {
   "codemirror_mode": {
    "name": "ipython",
    "version": 3
   },
   "file_extension": ".py",
   "mimetype": "text/x-python",
   "name": "python",
   "nbconvert_exporter": "python",
   "pygments_lexer": "ipython3",
   "version": "3.10.18"
  }
 },
 "nbformat": 4,
 "nbformat_minor": 5
}
