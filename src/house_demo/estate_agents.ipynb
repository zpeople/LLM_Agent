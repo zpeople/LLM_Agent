{
 "cells": [
  {
   "cell_type": "code",
   "execution_count": 1,
   "id": "ec4c8357",
   "metadata": {},
   "outputs": [],
   "source": [
    "import os\n",
    "import sys\n",
    "try:\n",
    "    get_ipython\n",
    "    current_dir = os.getcwd()\n",
    "except NameError:\n",
    "    current_dir = os.path.dirname(os.path.abspath(__file__))\n",
    "\n",
    "# Set path，temporary path expansion\n",
    "project_dir = os.path.abspath(os.path.join(current_dir, '..'))\n",
    "if project_dir not in sys.path:\n",
    "    sys.path.append(project_dir)"
   ]
  },
  {
   "cell_type": "code",
   "execution_count": 2,
   "id": "710b9943",
   "metadata": {},
   "outputs": [],
   "source": [
    "from crewai import Agent,LLM\n",
    "import estate_tools  as ET\n",
    "from dotenv import load_dotenv  "
   ]
  },
  {
   "cell_type": "code",
   "execution_count": null,
   "id": "26342123",
   "metadata": {},
   "outputs": [
    {
     "name": "stdout",
     "output_type": "stream",
     "text": [
      "sk-a83aa99f815643c98bbdc75cd405b998\n"
     ]
    }
   ],
   "source": [
    "load_dotenv()\n",
    "BASE_URL= os.getenv(\"BASE_URL\")\n",
    "ONLINE_MODEL_NAME = os.getenv(\"ONLINE_MODEL_NAME\")\n",
    "api_key = ( os.getenv(\"QWEN_API_KEY\") or os.getenv(\"DASHSCOPE_API_KEY\" ) ) \n",
    "\n",
    "\n",
    "llm = LLM(\n",
    "            base_url=BASE_URL,\n",
    "            api_key=api_key,\n",
    "            model=\"openai/\"+ONLINE_MODEL_NAME,  # 本次使用的模型\n",
    "            # temperature=0.7,  \n",
    "            # timeout=None,\n",
    "            # max_retries=2,\n",
    "        )"
   ]
  },
  {
   "cell_type": "code",
   "execution_count": null,
   "id": "852ac9db",
   "metadata": {},
   "outputs": [],
   "source": [
    "# 定义智能体\n",
    "class RealEstateAgents:\n",
    "    @staticmethod\n",
    "    def intent_recognition_agent():\n",
    "        \"\"\"意图识别智能体：分析用户输入，确定用户意图\"\"\"\n",
    "        return Agent(\n",
    "            role=\"房产意图识别专家\",\n",
    "            goal=\"准确识别用户在房产方面的具体意图，包括购房、租房、查询房价、计算贷款等\",\n",
    "            backstory=\"你是一位经验丰富的房产咨询意图分析专家，擅长从用户的提问中准确识别其真实需求和意图。\",\n",
    "            llm=llm,\n",
    "            tools=[],  # 意图识别不需要工具，仅分析文本\n",
    "            verbose=True,\n",
    "            allow_delegation=False\n",
    "        )\n",
    "    \n",
    "    @staticmethod\n",
    "    def conversation_planner_agent():\n",
    "        \"\"\"对话规划智能体：规划对话流程，确定下一步行动\"\"\"\n",
    "        return Agent(\n",
    "            role=\"房产对话规划专家\",\n",
    "            goal=\"根据用户意图和当前对话状态，规划下一步对话策略和需要获取的信息\",\n",
    "            backstory=\"你是一位擅长房产咨询对话流程设计的专家，能够根据用户需求设计最优对话路径。\",\n",
    "            llm=llm,\n",
    "            tools=[],  # 规划不需要工具\n",
    "            verbose=True,\n",
    "            allow_delegation=True,\n",
    "            max_iter=3\n",
    "        )\n",
    "    \n",
    "    @staticmethod\n",
    "    def property_consultant_agent():\n",
    "        \"\"\"房产咨询智能体：提供房产信息和建议\"\"\"\n",
    "        return Agent(\n",
    "            role=\"房产咨询顾问\",\n",
    "            goal=\"为用户提供详细的房产信息、市场分析和专业建议\",\n",
    "            backstory=\"你是一位资深房产顾问，拥有丰富的房产知识和市场经验，能够解答各种房产问题。\",\n",
    "            llm=llm,\n",
    "            tools=[ET.query_property_info,ET.calculate_mortgage,ET.get_market_trends],\n",
    "            verbose=True,\n",
    "            allow_delegation=False\n",
    "        )\n",
    "    \n",
    "    @staticmethod\n",
    "    def mortgage_expert_agent():\n",
    "        \"\"\"房贷专家智能体：提供贷款计算和建议\"\"\"\n",
    "        return Agent(\n",
    "            role=\"房贷专家\",\n",
    "            goal=\"为用户提供准确的房贷计算和贷款方案建议。\"\n",
    "             \"如果用户未提供完整参数，可基于合理假设补充数据进行计算。\"\n",
    "             \"需支持两种还款方式计算：\"\n",
    "             \"'equal_principal_interest'（等额本息）和'equal_principal'（等额本金）。\"\n",
    "             \"房贷利率采用最新市场数据。\",\n",
    "            backstory=\"你是一位银行房贷部门的资深专家，拥有10年以上从业经验，精通各类房贷产品特性和计算方式，能够根据用户情况提供最优贷款建议。\",\n",
    "            llm=llm,\n",
    "            tools=[ET.calculate_mortgage],  # 主要使用房贷计算工具\n",
    "            verbose=True,\n",
    "            allow_delegation=False\n",
    "        )"
   ]
  }
 ],
 "metadata": {
  "kernelspec": {
   "display_name": "agent",
   "language": "python",
   "name": "python3"
  },
  "language_info": {
   "codemirror_mode": {
    "name": "ipython",
    "version": 3
   },
   "file_extension": ".py",
   "mimetype": "text/x-python",
   "name": "python",
   "nbconvert_exporter": "python",
   "pygments_lexer": "ipython3",
   "version": "3.10.18"
  }
 },
 "nbformat": 4,
 "nbformat_minor": 5
}
